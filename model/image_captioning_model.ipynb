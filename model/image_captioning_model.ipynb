{
 "cells": [
  {
   "cell_type": "code",
   "execution_count": 1,
   "metadata": {},
   "outputs": [],
   "source": [
    "import numpy as np\n",
    "import os\n",
    "import pickle\n",
    "from tqdm import tqdm\n",
    "import keras\n",
    "from tensorflow.keras.applications.vgg16 import VGG16, preprocess_input\n",
    "from tensorflow.keras.preprocessing.image import load_img, img_to_array\n",
    "from tensorflow.keras.preprocessing.text import Tokenizer\n",
    "from tensorflow.keras.preprocessing.sequence import pad_sequences\n",
    "from tensorflow.keras.utils import to_categorical, plot_model\n",
    "from tensorflow.keras.layers import Input, Dense, add, LSTM, Embedding, Dropout, Conv2D, MaxPooling2D, BatchNormalization, Flatten\n",
    "from tensorflow.keras.models import Model, Sequential\n",
    "import tensorflow as tf"
   ]
  },
  {
   "cell_type": "code",
   "execution_count": 2,
   "metadata": {},
   "outputs": [],
   "source": [
    "base_dir = r'D:\\University Files\\Assignments\\7th Semester\\Machine Learning\\Project\\VizWiz Dataset'\n",
    "train_img_dir = r'D:\\University Files\\Assignments\\7th Semester\\Machine Learning\\Project\\VizWiz Dataset\\train'\n",
    "val_img_dir = r'D:\\University Files\\Assignments\\7th Semester\\Machine Learning\\Project\\VizWiz Dataset\\val'\n",
    "test_img_dir = r'D:\\University Files\\Assignments\\7th Semester\\Machine Learning\\Project\\VizWiz Dataset\\test'\n",
    "train_annot_dir = r'D:\\University Files\\Assignments\\7th Semester\\Machine Learning\\Project\\VizWiz Dataset\\annotations\\train.json'\n",
    "val_annot_dir = r'D:\\University Files\\Assignments\\7th Semester\\Machine Learning\\Project\\VizWiz Dataset\\annotations\\val.json'\n",
    "test_annot_dir = r'D:\\University Files\\Assignments\\7th Semester\\Machine Learning\\Project\\VizWiz Dataset\\annotations\\test.json'"
   ]
  },
  {
   "cell_type": "code",
   "execution_count": 3,
   "metadata": {},
   "outputs": [],
   "source": [
    "import json\n",
    "\n",
    "with open(train_annot_dir, 'r') as file:\n",
    "    train_dict = json.load(file)\n",
    "\n",
    "with open(val_annot_dir, 'r') as file:\n",
    "    val_dict = json.load(file)\n",
    "\n",
    "with open(test_annot_dir, 'r') as file:\n",
    "    test_dict = json.load(file)"
   ]
  },
  {
   "cell_type": "code",
   "execution_count": 4,
   "metadata": {},
   "outputs": [],
   "source": [
    "train_img_mapping = {}\n",
    "\n",
    "for indiv_dict in train_dict['images']:\n",
    "    img_name = indiv_dict['file_name']\n",
    "    img_id = indiv_dict['id']\n",
    "    train_img_mapping[img_name] = img_id"
   ]
  },
  {
   "cell_type": "code",
   "execution_count": 5,
   "metadata": {},
   "outputs": [],
   "source": [
    "val_img_mapping = {}\n",
    "\n",
    "for indiv_dict in val_dict['images']:\n",
    "    img_name = indiv_dict['file_name']\n",
    "    img_id = indiv_dict['id']\n",
    "    val_img_mapping[img_name] = img_id"
   ]
  },
  {
   "cell_type": "code",
   "execution_count": null,
   "metadata": {},
   "outputs": [],
   "source": [
    "train_set = []\n",
    "validation_set = []\n",
    "\n",
    " # FIGURE OUT A WAY TO USE CUSTOM CONVNET"
   ]
  },
  {
   "cell_type": "code",
   "execution_count": 13,
   "metadata": {},
   "outputs": [],
   "source": [
    "HEIGHT = 224\n",
    "WIDTH = 224\n",
    "\n",
    "shape = (HEIGHT, WIDTH, 3)"
   ]
  },
  {
   "cell_type": "markdown",
   "metadata": {},
   "source": [
    "Initial Convolutional Neural Network"
   ]
  },
  {
   "cell_type": "code",
   "execution_count": 12,
   "metadata": {},
   "outputs": [],
   "source": [
    "def define_model(neurons, dense_layers, bn, dropouts):\n",
    "  model = Sequential()\n",
    "\n",
    "  for i, nodes in enumerate(neurons):\n",
    "    if i == 0:\n",
    "      model.add(\n",
    "          Conv2D(nodes, (3, 3), input_shape=shape, activation='relu'))\n",
    "      model.add(MaxPooling2D(pool_size=(2, 2)))\n",
    "      if bn:\n",
    "        model.add(BatchNormalization())\n",
    "    else:\n",
    "      model.add(Conv2D(nodes, (3, 3), activation='relu'))\n",
    "      model.add(MaxPooling2D(pool_size=(2, 2)))\n",
    "\n",
    "  model.add(Flatten())\n",
    "\n",
    "  for i, nodes in enumerate(dense_layers):\n",
    "    model.add(Dense(nodes, activation='relu'))\n",
    "    model.add(Dropout(dropouts[i]))\n",
    "\n",
    "  model.add(Dense(1, activation='sigmoid'))\n",
    "  model.compile(loss=\"binary_crossentropy\",\n",
    "                optimizer='adam', metrics=[\"accuracy\"])\n",
    "  return model"
   ]
  },
  {
   "cell_type": "code",
   "execution_count": null,
   "metadata": {},
   "outputs": [],
   "source": [
    "es = tf.keras.callbacks.EarlyStopping(\n",
    "    monitor='val_accuracy',\n",
    "    patience=5,\n",
    "    verbose=1,\n",
    "    mode='max'\n",
    ")\n",
    "\n",
    "cp = tf.keras.callbacks.ModelCheckpoint(\n",
    "    'best_aug.h5',\n",
    "    monitor='val_accuracy',\n",
    "    mode='max',\n",
    "    verbose=1,\n",
    "    save_best_only=True\n",
    ")\n",
    "\n",
    "history = model.fit(X_train, y_train, validation_data=(\n",
    "    X_val, y_val), batch_size=132, epochs=30, callbacks=[es, cp], verbose=2)"
   ]
  },
  {
   "cell_type": "code",
   "execution_count": 18,
   "metadata": {},
   "outputs": [
    {
     "name": "stdout",
     "output_type": "stream",
     "text": [
      "Model: \"model\"\n",
      "_________________________________________________________________\n",
      " Layer (type)                Output Shape              Param #   \n",
      "=================================================================\n",
      " input_5 (InputLayer)        [(None, 224, 224, 3)]     0         \n",
      "                                                                 \n",
      " block1_conv1 (Conv2D)       (None, 224, 224, 64)      1792      \n",
      "                                                                 \n",
      " block1_conv2 (Conv2D)       (None, 224, 224, 64)      36928     \n",
      "                                                                 \n",
      " block1_pool (MaxPooling2D)  (None, 112, 112, 64)      0         \n",
      "                                                                 \n",
      " block2_conv1 (Conv2D)       (None, 112, 112, 128)     73856     \n",
      "                                                                 \n",
      " block2_conv2 (Conv2D)       (None, 112, 112, 128)     147584    \n",
      "                                                                 \n",
      " block2_pool (MaxPooling2D)  (None, 56, 56, 128)       0         \n",
      "                                                                 \n",
      " block3_conv1 (Conv2D)       (None, 56, 56, 256)       295168    \n",
      "                                                                 \n",
      " block3_conv2 (Conv2D)       (None, 56, 56, 256)       590080    \n",
      "                                                                 \n",
      " block3_conv3 (Conv2D)       (None, 56, 56, 256)       590080    \n",
      "                                                                 \n",
      " block3_pool (MaxPooling2D)  (None, 28, 28, 256)       0         \n",
      "                                                                 \n",
      " block4_conv1 (Conv2D)       (None, 28, 28, 512)       1180160   \n",
      "                                                                 \n",
      " block4_conv2 (Conv2D)       (None, 28, 28, 512)       2359808   \n",
      "                                                                 \n",
      " block4_conv3 (Conv2D)       (None, 28, 28, 512)       2359808   \n",
      "                                                                 \n",
      " block4_pool (MaxPooling2D)  (None, 14, 14, 512)       0         \n",
      "                                                                 \n",
      " block5_conv1 (Conv2D)       (None, 14, 14, 512)       2359808   \n",
      "                                                                 \n",
      " block5_conv2 (Conv2D)       (None, 14, 14, 512)       2359808   \n",
      "                                                                 \n",
      " block5_conv3 (Conv2D)       (None, 14, 14, 512)       2359808   \n",
      "                                                                 \n",
      " block5_pool (MaxPooling2D)  (None, 7, 7, 512)         0         \n",
      "                                                                 \n",
      " flatten (Flatten)           (None, 25088)             0         \n",
      "                                                                 \n",
      " fc1 (Dense)                 (None, 4096)              102764544 \n",
      "                                                                 \n",
      " fc2 (Dense)                 (None, 4096)              16781312  \n",
      "                                                                 \n",
      "=================================================================\n",
      "Total params: 134,260,544\n",
      "Trainable params: 134,260,544\n",
      "Non-trainable params: 0\n",
      "_________________________________________________________________\n"
     ]
    }
   ],
   "source": [
    "# Define VGG16 Model\n",
    "model = VGG16()\n",
    "model = Model(inputs=model.inputs, outputs=model.layers[-2].output)\n",
    "model.summary()"
   ]
  },
  {
   "cell_type": "code",
   "execution_count": 19,
   "metadata": {},
   "outputs": [],
   "source": [
    "def get_features(model, split_set, set_dict):\n",
    "    image_features = {}\n",
    "    directory = os.path.join(base_dir, split_set)\n",
    "\n",
    "    for img_name in tqdm(os.listdir(directory)):\n",
    "        if not (img_name in set_dict.keys()): continue\n",
    "        # Load an image\n",
    "        img_path = os.path.join(directory, img_name)\n",
    "        img = load_img(img_path, target_size=(HEIGHT, WIDTH))\n",
    "        # Convert image into numpy pixel values\n",
    "        img = img_to_array(img)\n",
    "        # Reshape the data for the model\n",
    "        img = img.reshape((1, img.shape[0], img.shape[1], img.shape[2]))\n",
    "        # Preprocess\n",
    "        img = preprocess_input(img)\n",
    "        # Extract features\n",
    "        feature = model.predict(img, verbose=0)\n",
    "        # Map img_id with its features\n",
    "        img_id = set_dict[img_name]\n",
    "        image_features[img_id] = feature\n",
    "    return image_features"
   ]
  },
  {
   "cell_type": "code",
   "execution_count": 20,
   "metadata": {},
   "outputs": [
    {
     "name": "stderr",
     "output_type": "stream",
     "text": [
      " 34%|███▍      | 8211/23954 [1:21:10<1:57:15,  2.24it/s]"
     ]
    }
   ],
   "source": [
    "train_img_features = get_features(model, 'train', train_img_mapping)"
   ]
  },
  {
   "cell_type": "code",
   "execution_count": null,
   "metadata": {},
   "outputs": [],
   "source": [
    "val_img_features = get_features(model, 'val', val_img_mapping)"
   ]
  },
  {
   "cell_type": "code",
   "execution_count": null,
   "metadata": {},
   "outputs": [],
   "source": [
    "train_img_features_path = r'D:\\University Files\\Assignments\\7th Semester\\Machine Learning\\Project\\loaded_data\\train_img_features.pkl'\n",
    "val_img_features_path = r'D:\\University Files\\Assignments\\7th Semester\\Machine Learning\\Project\\loaded_data\\val_img_features.pkl'"
   ]
  },
  {
   "cell_type": "code",
   "execution_count": null,
   "metadata": {},
   "outputs": [],
   "source": [
    "import pickle \n",
    "pickle.dump(train_img_features, train_img_features_path, 'wb')\n",
    "pickle.dump(val_img_features, val_img_features_path, 'wb')"
   ]
  },
  {
   "cell_type": "code",
   "execution_count": null,
   "metadata": {},
   "outputs": [],
   "source": [
    "t = train_img_features\n",
    "v = val_img_features"
   ]
  },
  {
   "cell_type": "code",
   "execution_count": null,
   "metadata": {},
   "outputs": [],
   "source": [
    "with open(train_img_features_path, 'rb') as f:\n",
    "    train_img_features = pickle.load(f)\n",
    "with open(val_img_features_path, 'rb') as f:\n",
    "    val_img_features = pickle.load(f)"
   ]
  },
  {
   "cell_type": "code",
   "execution_count": null,
   "metadata": {},
   "outputs": [],
   "source": [
    "def get_captions(img_name, dict_set):\n",
    "    img_captions = []\n",
    "    for d in dict_set['images']:\n",
    "        if d.get('file_name') == img_name:\n",
    "            img_id = d.get('id')\n",
    "            for k in dict_set['annotations']:\n",
    "                if k.get('image_id') == img_id:\n",
    "                    if k.get('is_rejected') == False:\n",
    "                        img_captions.append(k.get('caption'))\n",
    "                        \n",
    "    return img_captions"
   ]
  }
 ],
 "metadata": {
  "kernelspec": {
   "display_name": "Python 3.10.5 64-bit",
   "language": "python",
   "name": "python3"
  },
  "language_info": {
   "codemirror_mode": {
    "name": "ipython",
    "version": 3
   },
   "file_extension": ".py",
   "mimetype": "text/x-python",
   "name": "python",
   "nbconvert_exporter": "python",
   "pygments_lexer": "ipython3",
   "version": "3.10.5"
  },
  "orig_nbformat": 4,
  "vscode": {
   "interpreter": {
    "hash": "7c2737f5cd3eb6a237b7123ce75c641d6f975db18b0c0702ad2055474d78171c"
   }
  }
 },
 "nbformat": 4,
 "nbformat_minor": 2
}
