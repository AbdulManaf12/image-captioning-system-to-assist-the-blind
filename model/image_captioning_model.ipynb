{
 "cells": [
  {
   "cell_type": "code",
   "execution_count": 1,
   "metadata": {},
   "outputs": [],
   "source": [
    "import numpy as np\n",
    "import os\n",
    "import pickle\n",
    "from tqdm import tqdm\n",
    "import keras\n",
    "from tensorflow.keras.applications.vgg16 import VGG16, preprocess_input\n",
    "from tensorflow.keras.preprocessing.image import load_img, img_to_array\n",
    "from tensorflow.keras.preprocessing.text import Tokenizer\n",
    "from tensorflow.keras.preprocessing.sequence import pad_sequences\n",
    "from tensorflow.keras.utils import to_categorical, plot_model\n",
    "from tensorflow.keras.layers import Input, Dense, add, LSTM, Embedding, Dropout, Conv2D, MaxPooling2D, BatchNormalization, Flatten\n",
    "from tensorflow.keras.models import Model, Sequential\n",
    "import tensorflow as tf"
   ]
  },
  {
   "cell_type": "code",
   "execution_count": 2,
   "metadata": {},
   "outputs": [],
   "source": [
    "base_dir = r'D:\\University Files\\Assignments\\7th Semester\\Machine Learning\\Project\\VizWiz Dataset'\n",
    "train_img_dir = r'D:\\University Files\\Assignments\\7th Semester\\Machine Learning\\Project\\VizWiz Dataset\\train'\n",
    "val_img_dir = r'D:\\University Files\\Assignments\\7th Semester\\Machine Learning\\Project\\VizWiz Dataset\\val'\n",
    "test_img_dir = r'D:\\University Files\\Assignments\\7th Semester\\Machine Learning\\Project\\VizWiz Dataset\\test'\n",
    "train_annot_dir = r'D:\\University Files\\Assignments\\7th Semester\\Machine Learning\\Project\\VizWiz Dataset\\annotations\\train.json'\n",
    "val_annot_dir = r'D:\\University Files\\Assignments\\7th Semester\\Machine Learning\\Project\\VizWiz Dataset\\annotations\\val.json'\n",
    "test_annot_dir = r'D:\\University Files\\Assignments\\7th Semester\\Machine Learning\\Project\\VizWiz Dataset\\annotations\\test.json'"
   ]
  },
  {
   "cell_type": "code",
   "execution_count": 3,
   "metadata": {},
   "outputs": [],
   "source": [
    "import json\n",
    "\n",
    "with open(train_annot_dir, 'r') as file:\n",
    "    train_dict = json.load(file)\n",
    "\n",
    "with open(val_annot_dir, 'r') as file:\n",
    "    val_dict = json.load(file)\n",
    "\n",
    "with open(test_annot_dir, 'r') as file:\n",
    "    test_dict = json.load(file)"
   ]
  },
  {
   "cell_type": "code",
   "execution_count": 14,
   "metadata": {},
   "outputs": [],
   "source": [
    "train_img_mapping = {}\n",
    "\n",
    "for indiv_dict in train_dict['images']:\n",
    "    img_name = indiv_dict['file_name']\n",
    "    img_id = indiv_dict['id']\n",
    "    train_img_mapping[img_name] = img_id"
   ]
  },
  {
   "cell_type": "code",
   "execution_count": 15,
   "metadata": {},
   "outputs": [],
   "source": [
    "val_img_mapping = {}\n",
    "\n",
    "for indiv_dict in val_dict['images']:\n",
    "    img_name = indiv_dict['file_name']\n",
    "    img_id = indiv_dict['id']\n",
    "    val_img_mapping[img_name] = img_id"
   ]
  },
  {
   "cell_type": "markdown",
   "metadata": {},
   "source": [
    "Initial Convolutional Neural Network"
   ]
  },
  {
   "cell_type": "code",
   "execution_count": 8,
   "metadata": {},
   "outputs": [],
   "source": [
    "HEIGHT = 224\n",
    "WIDTH = 224\n",
    "\n",
    "shape = (HEIGHT, WIDTH, 3)\n",
    "\n",
    "def define_model(neurons, dense_layers, bn, dropouts):\n",
    "  model = Sequential()\n",
    "\n",
    "  for i, nodes in enumerate(neurons):\n",
    "    if i == 0:\n",
    "      model.add(\n",
    "          Conv2D(nodes, (3, 3), input_shape=shape, activation='relu'))\n",
    "      model.add(MaxPooling2D(pool_size=(2, 2)))\n",
    "      if bn:\n",
    "        model.add(BatchNormalization())\n",
    "    else:\n",
    "      model.add(Conv2D(nodes, (3, 3), activation='relu'))\n",
    "      model.add(MaxPooling2D(pool_size=(2, 2)))\n",
    "\n",
    "  # model.add(Flatten())\n",
    "\n",
    "  # for i, nodes in enumerate(dense_layers):\n",
    "  #   model.add(Dense(nodes, activation='relu'))\n",
    "  #   model.add(Dropout(dropouts[i]))\n",
    "\n",
    "  # model.add(Dense(1, activation='sigmoid'))\n",
    "  # model.compile(loss=\"binary_crossentropy\",\n",
    "  #               optimizer='adam', metrics=[\"accuracy\"])\n",
    "  return model"
   ]
  },
  {
   "cell_type": "code",
   "execution_count": 27,
   "metadata": {},
   "outputs": [
    {
     "name": "stdout",
     "output_type": "stream",
     "text": [
      "Model: \"sequential_5\"\n",
      "_________________________________________________________________\n",
      " Layer (type)                Output Shape              Param #   \n",
      "=================================================================\n",
      " conv2d_17 (Conv2D)          (None, 222, 222, 32)      896       \n",
      "                                                                 \n",
      " max_pooling2d_17 (MaxPoolin  (None, 111, 111, 32)     0         \n",
      " g2D)                                                            \n",
      "                                                                 \n",
      " batch_normalization_4 (Batc  (None, 111, 111, 32)     128       \n",
      " hNormalization)                                                 \n",
      "                                                                 \n",
      " conv2d_18 (Conv2D)          (None, 109, 109, 64)      18496     \n",
      "                                                                 \n",
      " max_pooling2d_18 (MaxPoolin  (None, 54, 54, 64)       0         \n",
      " g2D)                                                            \n",
      "                                                                 \n",
      " conv2d_19 (Conv2D)          (None, 52, 52, 128)       73856     \n",
      "                                                                 \n",
      " max_pooling2d_19 (MaxPoolin  (None, 26, 26, 128)      0         \n",
      " g2D)                                                            \n",
      "                                                                 \n",
      " conv2d_20 (Conv2D)          (None, 24, 24, 128)       147584    \n",
      "                                                                 \n",
      " max_pooling2d_20 (MaxPoolin  (None, 12, 12, 128)      0         \n",
      " g2D)                                                            \n",
      "                                                                 \n",
      " flatten_3 (Flatten)         (None, 18432)             0         \n",
      "                                                                 \n",
      " dense_2 (Dense)             (None, 256)               4718848   \n",
      "                                                                 \n",
      " dropout (Dropout)           (None, 256)               0         \n",
      "                                                                 \n",
      "=================================================================\n",
      "Total params: 4,959,808\n",
      "Trainable params: 4,959,744\n",
      "Non-trainable params: 64\n",
      "_________________________________________________________________\n"
     ]
    }
   ],
   "source": [
    "model = define_model([32, 64, 128, 128], [256], True, [0.2])\n",
    "model.summary()"
   ]
  },
  {
   "cell_type": "code",
   "execution_count": null,
   "metadata": {},
   "outputs": [],
   "source": [
    "es = tf.keras.callbacks.EarlyStopping(\n",
    "    monitor='val_accuracy',\n",
    "    patience=5,\n",
    "    verbose=1,\n",
    "    mode='max'\n",
    ")\n",
    "\n",
    "cp = tf.keras.callbacks.ModelCheckpoint(\n",
    "    'best_aug.h5',\n",
    "    monitor='val_accuracy',\n",
    "    mode='max',\n",
    "    verbose=1,\n",
    "    save_best_only=True\n",
    ")\n",
    "\n",
    "history = model.fit(X_train, y_train, validation_data=(\n",
    "    X_val, y_val), batch_size=132, epochs=30, callbacks=[es, cp], verbose=2)"
   ]
  },
  {
   "cell_type": "code",
   "execution_count": 17,
   "metadata": {},
   "outputs": [],
   "source": [
    "def get_features(model, split_set, set_dict):\n",
    "    image_features = {}\n",
    "    directory = os.path.join(base_dir, split_set)\n",
    "\n",
    "    for img_name in tqdm(os.listdir(directory)):\n",
    "        # Load an image\n",
    "        img_path = os.path.join(directory, img_name)\n",
    "        img = load_img(img_path, target_size=(HEIGHT, WIDTH))\n",
    "        # Convert image into numpy pixel values\n",
    "        img = img_to_array(img)\n",
    "        # Reshape the data for the model\n",
    "        img = img.reshape((1, img.shape[0], img.shape[1], img.shape[2]))\n",
    "        # Preprocess\n",
    "        img = preprocess_input(img)\n",
    "        # Extract features\n",
    "        feature = model.predict(img, verbose=0)\n",
    "        # Map img_id with its features\n",
    "        img_id = set_dict[img_name]\n",
    "        image_features[img_id] = feature\n",
    "    return image_features"
   ]
  },
  {
   "cell_type": "code",
   "execution_count": 18,
   "metadata": {},
   "outputs": [
    {
     "name": "stdout",
     "output_type": "stream",
     "text": [
      "Model: \"sequential_2\"\n",
      "_________________________________________________________________\n",
      " Layer (type)                Output Shape              Param #   \n",
      "=================================================================\n",
      " conv2d_8 (Conv2D)           (None, 222, 222, 32)      896       \n",
      "                                                                 \n",
      " max_pooling2d_8 (MaxPooling  (None, 111, 111, 32)     0         \n",
      " 2D)                                                             \n",
      "                                                                 \n",
      " batch_normalization_2 (Batc  (None, 111, 111, 32)     128       \n",
      " hNormalization)                                                 \n",
      "                                                                 \n",
      " conv2d_9 (Conv2D)           (None, 109, 109, 64)      18496     \n",
      "                                                                 \n",
      " max_pooling2d_9 (MaxPooling  (None, 54, 54, 64)       0         \n",
      " 2D)                                                             \n",
      "                                                                 \n",
      " conv2d_10 (Conv2D)          (None, 52, 52, 128)       73856     \n",
      "                                                                 \n",
      " max_pooling2d_10 (MaxPoolin  (None, 26, 26, 128)      0         \n",
      " g2D)                                                            \n",
      "                                                                 \n",
      " conv2d_11 (Conv2D)          (None, 24, 24, 128)       147584    \n",
      "                                                                 \n",
      " max_pooling2d_11 (MaxPoolin  (None, 12, 12, 128)      0         \n",
      " g2D)                                                            \n",
      "                                                                 \n",
      "=================================================================\n",
      "Total params: 240,960\n",
      "Trainable params: 240,896\n",
      "Non-trainable params: 64\n",
      "_________________________________________________________________\n"
     ]
    }
   ],
   "source": [
    "model = define_model([32, 64, 128, 128], [], True, [])\n",
    "model.summary()"
   ]
  },
  {
   "cell_type": "code",
   "execution_count": null,
   "metadata": {},
   "outputs": [],
   "source": [
    "train_img_features = get_features()"
   ]
  }
 ],
 "metadata": {
  "kernelspec": {
   "display_name": "Python 3.10.5 64-bit",
   "language": "python",
   "name": "python3"
  },
  "language_info": {
   "codemirror_mode": {
    "name": "ipython",
    "version": 3
   },
   "file_extension": ".py",
   "mimetype": "text/x-python",
   "name": "python",
   "nbconvert_exporter": "python",
   "pygments_lexer": "ipython3",
   "version": "3.10.5"
  },
  "orig_nbformat": 4,
  "vscode": {
   "interpreter": {
    "hash": "7c2737f5cd3eb6a237b7123ce75c641d6f975db18b0c0702ad2055474d78171c"
   }
  }
 },
 "nbformat": 4,
 "nbformat_minor": 2
}
