{
  "cells": [
    {
      "cell_type": "code",
      "execution_count": null,
      "metadata": {
        "id": "RzEBchgSENr8"
      },
      "outputs": [],
      "source": [
        "import numpy as np\n",
        "import os\n",
        "import pickle\n",
        "from tqdm import tqdm\n",
        "import keras\n",
        "from tensorflow.keras.applications.vgg16 import VGG16, preprocess_input\n",
        "from tensorflow.keras.preprocessing.image import load_img, img_to_array\n",
        "from tensorflow.keras.preprocessing.text import Tokenizer\n",
        "from tensorflow.keras.preprocessing.sequence import pad_sequences\n",
        "from tensorflow.keras.utils import to_categorical, plot_model\n",
        "from tensorflow.keras.layers import Input, Dense, add, LSTM, Embedding, Dropout, Conv2D, MaxPooling2D, BatchNormalization, Flatten\n",
        "from tensorflow.keras.models import Model, Sequential\n",
        "import tensorflow as tf"
      ]
    },
    {
      "cell_type": "code",
      "execution_count": null,
      "metadata": {
        "colab": {
          "base_uri": "https://localhost:8080/"
        },
        "id": "HFKOVlyPEgqj",
        "outputId": "074d88be-52ba-4470-9318-31c9a575a229"
      },
      "outputs": [
        {
          "name": "stdout",
          "output_type": "stream",
          "text": [
            "Mounted at /content/drive\n"
          ]
        }
      ],
      "source": [
        "from google.colab import drive\n",
        "drive.mount('/content/drive')"
      ]
    },
    {
      "cell_type": "code",
      "execution_count": null,
      "metadata": {
        "colab": {
          "base_uri": "https://localhost:8080/"
        },
        "id": "_suazjC4HvDA",
        "outputId": "15b0a127-093b-4adb-a30f-0aababab1767"
      },
      "outputs": [
        {
          "name": "stdout",
          "output_type": "stream",
          "text": [
            "/content/drive/.shortcut-targets-by-id/1nWIRZlxjsKqHOr4tyiczwVJmz6NEqO8Q/VizWiz Code/extracted\n"
          ]
        }
      ],
      "source": [
        "%cd /content/drive/MyDrive/VizWiz Code/extracted"
      ]
    },
    {
      "cell_type": "code",
      "execution_count": null,
      "metadata": {
        "colab": {
          "base_uri": "https://localhost:8080/"
        },
        "id": "euoUtfeHEcv1",
        "outputId": "dcf4471b-80f1-47f6-8e4c-3cdcac122768"
      },
      "outputs": [],
      "source": [
        "!pip install unrar\n",
        "!unrar x '/content/drive/MyDrive/VizWiz Code/VizWiz Dataset.rar'"
      ]
    },
    {
      "cell_type": "code",
      "execution_count": null,
      "metadata": {
        "id": "Di1n4v2sENsK"
      },
      "outputs": [],
      "source": [
        "base_dir = '/content/drive/MyDrive/VizWiz Code/extracted/VizWiz Dataset'\n",
        "train_img_dir = os.path.join(base_dir, 'train')\n",
        "val_img_dir = os.path.join(base_dir, 'val')\n",
        "test_img_dir = os.path.join(base_dir, 'test')\n",
        "train_annot_dir = os.path.join(os.path.join(base_dir, 'annotations'), 'train.json')\n",
        "val_annot_dir = os.path.join(os.path.join(base_dir, 'annotations'), 'val.json')\n",
        "test_annot_dir = os.path.join(os.path.join(base_dir, 'annotations'), 'test.json')"
      ]
    },
    {
      "cell_type": "code",
      "execution_count": null,
      "metadata": {
        "id": "jQwYndOhENsM"
      },
      "outputs": [],
      "source": [
        "import json\n",
        "\n",
        "with open(train_annot_dir, 'r') as file:\n",
        "    train_dict = json.load(file)\n",
        "\n",
        "with open(val_annot_dir, 'r') as file:\n",
        "    val_dict = json.load(file)\n",
        "\n",
        "with open(test_annot_dir, 'r') as file:\n",
        "    test_dict = json.load(file)"
      ]
    },
    {
      "cell_type": "code",
      "execution_count": null,
      "metadata": {
        "id": "dS0PBFlzUJPY"
      },
      "outputs": [],
      "source": [
        "loaded_data_path = '/content/drive/MyDrive/VizWiz Code/loaded_data'"
      ]
    },
    {
      "cell_type": "code",
      "execution_count": null,
      "metadata": {
        "id": "DjZpE48UUMAd"
      },
      "outputs": [],
      "source": [
        "import pickle \n",
        "pickle.dump(train_dict, open(os.path.join(loaded_data_path, 'train_dict.pkl'), 'wb'))\n",
        "pickle.dump(val_dict, open(os.path.join(loaded_data_path, 'val_dict.pkl'), 'wb'))\n",
        "pickle.dump(test_dict, open(os.path.join(loaded_data_path, 'test_dict.pkl'), 'wb'))"
      ]
    },
    {
      "cell_type": "code",
      "execution_count": null,
      "metadata": {
        "id": "rVcDP5hRVOkQ"
      },
      "outputs": [],
      "source": [
        "with open(os.path.join(loaded_data_path, 'train_dict.pkl'), 'rb') as f:\n",
        "  train_dict = pickle.load(f)\n",
        "with open(os.path.join(loaded_data_path, 'val_dict.pkl'), 'rb') as f:\n",
        "  val_dict = pickle.load(f)\n",
        "with open(os.path.join(loaded_data_path, 'test_dict.pkl'), 'rb') as f:\n",
        "  test_dict = pickle.load(f)"
      ]
    },
    {
      "cell_type": "code",
      "execution_count": null,
      "metadata": {
        "id": "y3ZZYel5ENsP"
      },
      "outputs": [],
      "source": [
        "train_img_mapping = {}\n",
        "\n",
        "for indiv_dict in train_dict['images']:\n",
        "    img_name = indiv_dict['file_name']\n",
        "    img_id = indiv_dict['id']\n",
        "    train_img_mapping[img_name] = img_id"
      ]
    },
    {
      "cell_type": "code",
      "execution_count": null,
      "metadata": {
        "id": "1BrPycVJENsQ"
      },
      "outputs": [],
      "source": [
        "val_img_mapping = {}\n",
        "\n",
        "for indiv_dict in val_dict['images']:\n",
        "    img_name = indiv_dict['file_name']\n",
        "    img_id = indiv_dict['id']\n",
        "    val_img_mapping[img_name] = img_id"
      ]
    },
    {
      "cell_type": "code",
      "execution_count": null,
      "metadata": {
        "id": "-P1b5eD3gIgw"
      },
      "outputs": [],
      "source": [
        "test_img_mapping = {}\n",
        "\n",
        "for indiv_dict in test_dict['images']:\n",
        "    img_name = indiv_dict['file_name']\n",
        "    img_id = indiv_dict['id']\n",
        "    test_img_mapping[img_name] = img_id"
      ]
    },
    {
      "cell_type": "code",
      "execution_count": null,
      "metadata": {
        "id": "MfoiPF06FuDu"
      },
      "outputs": [],
      "source": [
        "import pickle \n",
        "pickle.dump(train_img_mapping, open(os.path.join(loaded_data_path, 'train_img_mapping.pkl'), 'wb'))\n",
        "pickle.dump(val_img_mapping, open(os.path.join(loaded_data_path, 'val_img_mapping.pkl'), 'wb'))"
      ]
    },
    {
      "cell_type": "code",
      "execution_count": null,
      "metadata": {
        "id": "CIxqxhxJjnCo"
      },
      "outputs": [],
      "source": [
        "pickle.dump(test_img_mapping, open(os.path.join(loaded_data_path, 'test_img_mapping.pkl'), 'wb'))"
      ]
    },
    {
      "cell_type": "code",
      "execution_count": null,
      "metadata": {
        "id": "R1ij3riIGUMc"
      },
      "outputs": [],
      "source": [
        "with open(os.path.join(loaded_data_path, 'train_img_mapping.pkl'), 'rb') as f:\n",
        "    train_img_mapping = pickle.load(f)\n",
        "with open(os.path.join(loaded_data_path, 'val_img_mapping.pkl'), 'rb') as f:\n",
        "    val_img_mapping = pickle.load(f)\n",
        "with open(os.path.join(loaded_data_path, 'test_img_mapping.pkl'), 'rb') as f:\n",
        "    test_img_mapping = pickle.load(f)"
      ]
    },
    {
      "cell_type": "code",
      "execution_count": null,
      "metadata": {
        "colab": {
          "base_uri": "https://localhost:8080/"
        },
        "id": "5WU-5KIjHacQ",
        "outputId": "f315ccae-a8f2-49b1-e6a4-300b3eccd3c2"
      },
      "outputs": [
        {
          "data": {
            "text/plain": [
              "23431"
            ]
          },
          "execution_count": 13,
          "metadata": {},
          "output_type": "execute_result"
        }
      ],
      "source": [
        "len(train_img_mapping)"
      ]
    },
    {
      "cell_type": "code",
      "execution_count": null,
      "metadata": {
        "colab": {
          "base_uri": "https://localhost:8080/"
        },
        "id": "1OAeTqTJHd34",
        "outputId": "4cc9d73b-ab22-4c15-a7bc-bc207983830f"
      },
      "outputs": [
        {
          "data": {
            "text/plain": [
              "7750"
            ]
          },
          "execution_count": 14,
          "metadata": {},
          "output_type": "execute_result"
        }
      ],
      "source": [
        "len(val_img_mapping)"
      ]
    },
    {
      "cell_type": "code",
      "execution_count": null,
      "metadata": {
        "colab": {
          "base_uri": "https://localhost:8080/"
        },
        "id": "UsZgpQdrkgaA",
        "outputId": "8a936fa9-6319-4a64-ae08-0c287e86f024"
      },
      "outputs": [
        {
          "data": {
            "text/plain": [
              "8000"
            ]
          },
          "execution_count": 15,
          "metadata": {},
          "output_type": "execute_result"
        }
      ],
      "source": [
        "len(test_img_mapping)"
      ]
    },
    {
      "cell_type": "code",
      "execution_count": null,
      "metadata": {
        "id": "zfK_H54vENsR"
      },
      "outputs": [],
      "source": [
        "train_set = []\n",
        "validation_set = []\n",
        "\n",
        " # FIGURE OUT A WAY TO USE CUSTOM CONVNET"
      ]
    },
    {
      "cell_type": "code",
      "execution_count": null,
      "metadata": {
        "id": "fFWkBJfAENsS"
      },
      "outputs": [],
      "source": [
        "HEIGHT = 224\n",
        "WIDTH = 224\n",
        "\n",
        "shape = (HEIGHT, WIDTH, 3)"
      ]
    },
    {
      "cell_type": "markdown",
      "metadata": {
        "id": "DYerQgPwENsU"
      },
      "source": [
        "Initial Convolutional Neural Network"
      ]
    },
    {
      "cell_type": "code",
      "execution_count": null,
      "metadata": {
        "id": "oubz_eLEENsa"
      },
      "outputs": [],
      "source": [
        "# def define_model(neurons, dense_layers, bn, dropouts):\n",
        "#   model = Sequential()\n",
        "\n",
        "#   for i, nodes in enumerate(neurons):\n",
        "#     if i == 0:\n",
        "#       model.add(\n",
        "#           Conv2D(nodes, (3, 3), input_shape=shape, activation='relu'))\n",
        "#       model.add(MaxPooling2D(pool_size=(2, 2)))\n",
        "#       if bn:\n",
        "#         model.add(BatchNormalization())\n",
        "#     else:\n",
        "#       model.add(Conv2D(nodes, (3, 3), activation='relu'))\n",
        "#       model.add(MaxPooling2D(pool_size=(2, 2)))\n",
        "\n",
        "#   model.add(Flatten())\n",
        "\n",
        "#   for i, nodes in enumerate(dense_layers):\n",
        "#     model.add(Dense(nodes, activation='relu'))\n",
        "#     model.add(Dropout(dropouts[i]))\n",
        "\n",
        "#   model.add(Dense(1, activation='sigmoid'))\n",
        "#   model.compile(loss=\"binary_crossentropy\",\n",
        "#                 optimizer='adam', metrics=[\"accuracy\"])\n",
        "#   return model"
      ]
    },
    {
      "cell_type": "code",
      "execution_count": null,
      "metadata": {
        "id": "RJF6DxRyENse"
      },
      "outputs": [],
      "source": [
        "# es = tf.keras.callbacks.EarlyStopping(\n",
        "#     monitor='val_accuracy',\n",
        "#     patience=5,\n",
        "#     verbose=1,\n",
        "#     mode='max'\n",
        "# )\n",
        "\n",
        "# cp = tf.keras.callbacks.ModelCheckpoint(\n",
        "#     'best_aug.h5',\n",
        "#     monitor='val_accuracy',\n",
        "#     mode='max',\n",
        "#     verbose=1,\n",
        "#     save_best_only=True\n",
        "# )\n",
        "\n",
        "# # history = model.fit(X_train, y_train, validation_data=(\n",
        "# #     X_val, y_val), batch_size=132, epochs=30, callbacks=[es, cp], verbose=2)"
      ]
    },
    {
      "cell_type": "code",
      "execution_count": null,
      "metadata": {
        "colab": {
          "base_uri": "https://localhost:8080/"
        },
        "id": "EIO3eVK1ENsh",
        "outputId": "4ef23147-d967-43b3-b4b9-0adf00853cbc"
      },
      "outputs": [
        {
          "name": "stdout",
          "output_type": "stream",
          "text": [
            "Downloading data from https://storage.googleapis.com/tensorflow/keras-applications/vgg16/vgg16_weights_tf_dim_ordering_tf_kernels.h5\n",
            "553467096/553467096 [==============================] - 24s 0us/step\n",
            "Model: \"model\"\n",
            "_________________________________________________________________\n",
            " Layer (type)                Output Shape              Param #   \n",
            "=================================================================\n",
            " input_1 (InputLayer)        [(None, 224, 224, 3)]     0         \n",
            "                                                                 \n",
            " block1_conv1 (Conv2D)       (None, 224, 224, 64)      1792      \n",
            "                                                                 \n",
            " block1_conv2 (Conv2D)       (None, 224, 224, 64)      36928     \n",
            "                                                                 \n",
            " block1_pool (MaxPooling2D)  (None, 112, 112, 64)      0         \n",
            "                                                                 \n",
            " block2_conv1 (Conv2D)       (None, 112, 112, 128)     73856     \n",
            "                                                                 \n",
            " block2_conv2 (Conv2D)       (None, 112, 112, 128)     147584    \n",
            "                                                                 \n",
            " block2_pool (MaxPooling2D)  (None, 56, 56, 128)       0         \n",
            "                                                                 \n",
            " block3_conv1 (Conv2D)       (None, 56, 56, 256)       295168    \n",
            "                                                                 \n",
            " block3_conv2 (Conv2D)       (None, 56, 56, 256)       590080    \n",
            "                                                                 \n",
            " block3_conv3 (Conv2D)       (None, 56, 56, 256)       590080    \n",
            "                                                                 \n",
            " block3_pool (MaxPooling2D)  (None, 28, 28, 256)       0         \n",
            "                                                                 \n",
            " block4_conv1 (Conv2D)       (None, 28, 28, 512)       1180160   \n",
            "                                                                 \n",
            " block4_conv2 (Conv2D)       (None, 28, 28, 512)       2359808   \n",
            "                                                                 \n",
            " block4_conv3 (Conv2D)       (None, 28, 28, 512)       2359808   \n",
            "                                                                 \n",
            " block4_pool (MaxPooling2D)  (None, 14, 14, 512)       0         \n",
            "                                                                 \n",
            " block5_conv1 (Conv2D)       (None, 14, 14, 512)       2359808   \n",
            "                                                                 \n",
            " block5_conv2 (Conv2D)       (None, 14, 14, 512)       2359808   \n",
            "                                                                 \n",
            " block5_conv3 (Conv2D)       (None, 14, 14, 512)       2359808   \n",
            "                                                                 \n",
            " block5_pool (MaxPooling2D)  (None, 7, 7, 512)         0         \n",
            "                                                                 \n",
            " flatten (Flatten)           (None, 25088)             0         \n",
            "                                                                 \n",
            " fc1 (Dense)                 (None, 4096)              102764544 \n",
            "                                                                 \n",
            " fc2 (Dense)                 (None, 4096)              16781312  \n",
            "                                                                 \n",
            "=================================================================\n",
            "Total params: 134,260,544\n",
            "Trainable params: 134,260,544\n",
            "Non-trainable params: 0\n",
            "_________________________________________________________________\n"
          ]
        }
      ],
      "source": [
        "# Define VGG16 Model\n",
        "model = VGG16()\n",
        "model = Model(inputs=model.inputs, outputs=model.layers[-2].output)\n",
        "model.summary()"
      ]
    },
    {
      "cell_type": "code",
      "execution_count": null,
      "metadata": {
        "id": "kN6cg3kFENsj"
      },
      "outputs": [],
      "source": [
        "def get_features(model, split_set, set_dict):\n",
        "    image_features = {}\n",
        "    directory = os.path.join(base_dir, split_set)\n",
        "\n",
        "    for img_name in tqdm(os.listdir(directory)):\n",
        "        if not (img_name in set_dict.keys()): continue\n",
        "        # Load an image\n",
        "        img_path = os.path.join(directory, img_name)\n",
        "        img = load_img(img_path, target_size=(HEIGHT, WIDTH))\n",
        "        # Convert image into numpy pixel values\n",
        "        img = img_to_array(img)\n",
        "        # Reshape the data for the model\n",
        "        img = img.reshape((1, img.shape[0], img.shape[1], img.shape[2]))\n",
        "        # Preprocess\n",
        "        img = preprocess_input(img)\n",
        "        # Extract features\n",
        "        feature = model.predict(img, verbose=0)\n",
        "        # Map img_id with its features\n",
        "        img_id = set_dict[img_name]\n",
        "        image_features[img_id] = feature\n",
        "    return image_features"
      ]
    },
    {
      "cell_type": "code",
      "execution_count": null,
      "metadata": {
        "colab": {
          "base_uri": "https://localhost:8080/"
        },
        "id": "QFgqOUG9ENsk",
        "outputId": "51f49182-fc30-4f3a-a1a2-b9a04e1c67a0"
      },
      "outputs": [
        {
          "name": "stderr",
          "output_type": "stream",
          "text": [
            "100%|██████████| 23954/23954 [35:22<00:00, 11.29it/s]\n"
          ]
        }
      ],
      "source": [
        "train_img_features = get_features(model, 'train', train_img_mapping)\n",
        "val_img_features = get_features(model, 'val', val_img_mapping)"
      ]
    },
    {
      "cell_type": "code",
      "execution_count": null,
      "metadata": {
        "id": "UBxm_l78xko4"
      },
      "outputs": [],
      "source": [
        "train_img_features_path = os.path.join(loaded_data_path, 'train_img_features.pkl')\n",
        "val_img_features_path = os.path.join(loaded_data_path, 'val_img_features.pkl')\n",
        "test_img_features_path = os.path.join(loaded_data_path, 'test_img_features.pkl')\n",
        "\n",
        "pickle.dump(test_img_features, open(test_img_features_path, 'wb'))\n",
        "pickle.dump(train_img_features, open(train_img_features_path, 'wb'))\n",
        "pickle.dump(val_img_features, open(val_img_features_path, 'wb'))"
      ]
    },
    {
      "cell_type": "code",
      "execution_count": null,
      "metadata": {
        "id": "U_1zXA-DgnN_"
      },
      "outputs": [],
      "source": [
        "test_img_features = get_features(model, 'test', test_img_mapping)\n",
        "test_img_features_path = os.path.join(loaded_data_path, 'test_img_features.pkl')"
      ]
    },
    {
      "cell_type": "code",
      "execution_count": null,
      "metadata": {
        "id": "tyLFr4RKlVEc"
      },
      "outputs": [],
      "source": [
        "pickle.dump(test_img_features, open(test_img_features_path, 'wb'))"
      ]
    },
    {
      "cell_type": "code",
      "execution_count": null,
      "metadata": {
        "id": "qp5pAqjBENsm"
      },
      "outputs": [],
      "source": [
        "train_img_features_path = os.path.join(loaded_data_path, 'train_img_features.pkl')\n",
        "val_img_features_path = os.path.join(loaded_data_path, 'val_img_features.pkl')\n",
        "test_img_features_path = os.path.join(loaded_data_path, 'test_img_features.pkl')\n",
        "\n",
        "with open(train_img_features_path, 'rb') as f:\n",
        "    train_img_features = pickle.load(f)\n",
        "with open(val_img_features_path, 'rb') as f:\n",
        "    val_img_features = pickle.load(f)\n",
        "with open(test_img_features_path, 'rb') as f:\n",
        "  test_img_features = pickle.load(f)"
      ]
    },
    {
      "cell_type": "code",
      "execution_count": null,
      "metadata": {
        "id": "RaDwzuAAENsm"
      },
      "outputs": [],
      "source": [
        "def get_captions(img_name, dict_set):\n",
        "    img_captions = []\n",
        "    i = 1\n",
        "    for d in dict_set['images']:\n",
        "        encountered = False\n",
        "        if d.get('file_name') == img_name:\n",
        "            img_id = d.get('id')\n",
        "            for k in dict_set['annotations']:\n",
        "                if k.get('image_id') != img_id and encountered: break\n",
        "                if k.get('image_id') == img_id:\n",
        "                    encountered = True\n",
        "                    if k.get('is_rejected') == False:\n",
        "                        img_captions.append(k.get('caption'))\n",
        "                 \n",
        "    return img_captions"
      ]
    },
    {
      "cell_type": "code",
      "execution_count": null,
      "metadata": {
        "colab": {
          "base_uri": "https://localhost:8080/"
        },
        "id": "4cqegpADENsn",
        "outputId": "4ac65cf8-8e5f-43c9-f242-ee5166b447b6"
      },
      "outputs": [
        {
          "name": "stderr",
          "output_type": "stream",
          "text": [
            "100%|██████████| 23431/23431 [06:09<00:00, 63.33it/s]\n"
          ]
        }
      ],
      "source": [
        "train_img_to_captions = {}\n",
        "\n",
        "for img_name, img_id in tqdm(train_img_mapping.items()):\n",
        "    if img_id not in train_img_to_captions:\n",
        "        train_img_to_captions[img_id] = get_captions(img_name, train_dict)\n",
        "\n",
        "pickle.dump(train_img_to_captions, open(os.path.join(loaded_data_path, 'train_img_to_captions.pkl'), 'wb'))"
      ]
    },
    {
      "cell_type": "code",
      "execution_count": null,
      "metadata": {
        "colab": {
          "base_uri": "https://localhost:8080/"
        },
        "id": "bDUZGvzLENsn",
        "outputId": "4a9636b9-18b4-454f-98c1-4b09ecdbfbc5"
      },
      "outputs": [
        {
          "name": "stderr",
          "output_type": "stream",
          "text": [
            "100%|██████████| 7750/7750 [00:38<00:00, 203.79it/s]\n"
          ]
        }
      ],
      "source": [
        "# Do it for validation\n",
        "val_img_to_captions = {}\n",
        "\n",
        "for img_name, img_id in tqdm(val_img_mapping.items()):\n",
        "    if img_id not in val_img_to_captions:\n",
        "        val_img_to_captions[img_id] = get_captions(img_name, val_dict)\n",
        "\n",
        "pickle.dump(val_img_to_captions, open(os.path.join(loaded_data_path, 'val_img_to_captions.pkl'), 'wb'))"
      ]
    },
    {
      "cell_type": "code",
      "execution_count": null,
      "metadata": {
        "id": "bT_vjHUHVoKU"
      },
      "outputs": [],
      "source": [
        "with open(os.path.join(loaded_data_path, 'train_img_to_captions.pkl'), 'rb') as f:\n",
        "    train_img_to_captions = pickle.load(f)\n",
        "with open(os.path.join(loaded_data_path, 'val_img_to_captions.pkl'), 'rb') as f:\n",
        "    val_img_to_captions = pickle.load(f)"
      ]
    },
    {
      "cell_type": "code",
      "execution_count": null,
      "metadata": {
        "id": "HZ1Kf5M-cgnI"
      },
      "outputs": [],
      "source": [
        "img_features = dict(list(train_img_features.items()) + list(val_img_features.items()))"
      ]
    },
    {
      "cell_type": "code",
      "execution_count": null,
      "metadata": {
        "id": "L8ubtkDc_Uaz"
      },
      "outputs": [],
      "source": [
        "img_to_captions = dict(list(train_img_to_captions.items()) + list(val_img_to_captions.items()))"
      ]
    },
    {
      "cell_type": "code",
      "execution_count": null,
      "metadata": {
        "id": "httZIDubENsn"
      },
      "outputs": [],
      "source": [
        "def preprocess_text(mapping):\n",
        "    for key, captions in mapping.items():\n",
        "        for i in range(len(captions)):\n",
        "            caption = captions[i]\n",
        "            caption = caption.lower()\n",
        "            caption = caption.replace('[^A-Za-z]', '')\n",
        "            caption = caption.replace('\\s+', '')\n",
        "            caption = 'startseq ' + ' '.join([word for word in caption.split() if len(word) > 1]) + ' endseq'\n",
        "            captions[i] = caption"
      ]
    },
    {
      "cell_type": "code",
      "execution_count": null,
      "metadata": {
        "colab": {
          "base_uri": "https://localhost:8080/"
        },
        "id": "AMyA5YrNENso",
        "outputId": "1e8a306b-6abb-4f0c-b685-8ba8af7dc282"
      },
      "outputs": [
        {
          "data": {
            "text/plain": [
              "['ITS IS A BASIL LEAVES CONTAINER ITS CONTAINS THE NET WEIGHT TOO.',\n",
              " 'A green and white plastic condiment bottle containing Basil leaves.',\n",
              " 'A bottle of spices in a plastic container laying on a surface.',\n",
              " 'some basil leaves in a container on a counter']"
            ]
          },
          "execution_count": 10,
          "metadata": {},
          "output_type": "execute_result"
        }
      ],
      "source": [
        "# Before preprocessing captions:\n",
        "train_img_to_captions[0]"
      ]
    },
    {
      "cell_type": "code",
      "execution_count": null,
      "metadata": {
        "colab": {
          "base_uri": "https://localhost:8080/"
        },
        "id": "s91yDbSxENso",
        "outputId": "36f513d1-3fa9-40da-e01a-ed8eb4e9eecd"
      },
      "outputs": [
        {
          "data": {
            "text/plain": [
              "['startseq its is basil leaves container its contains the net weight too. endseq',\n",
              " 'startseq green and white plastic condiment bottle containing basil leaves. endseq',\n",
              " 'startseq bottle of spices in plastic container laying on surface. endseq',\n",
              " 'startseq some basil leaves in container on counter endseq']"
            ]
          },
          "execution_count": 11,
          "metadata": {},
          "output_type": "execute_result"
        }
      ],
      "source": [
        "# After preprocessing\n",
        "preprocess_text(train_img_to_captions)\n",
        "train_img_to_captions[0]"
      ]
    },
    {
      "cell_type": "code",
      "execution_count": null,
      "metadata": {
        "colab": {
          "base_uri": "https://localhost:8080/"
        },
        "id": "jdur_sg9ENsp",
        "outputId": "07517dea-eb97-4802-aecf-f10423aca28a"
      },
      "outputs": [
        {
          "data": {
            "text/plain": [
              "151773"
            ]
          },
          "execution_count": 17,
          "metadata": {},
          "output_type": "execute_result"
        }
      ],
      "source": [
        "# Get all vocabulary \n",
        "\n",
        "all_captions = []\n",
        "\n",
        "for key in img_to_captions.keys():\n",
        "    for caption in img_to_captions[key]:\n",
        "        all_captions.append(caption)\n",
        "\n",
        "len(all_captions)"
      ]
    },
    {
      "cell_type": "code",
      "execution_count": null,
      "metadata": {
        "colab": {
          "base_uri": "https://localhost:8080/"
        },
        "id": "AhvUzZNJENsp",
        "outputId": "cfbc885a-7aa9-4886-f6c3-83a00e04b2cd"
      },
      "outputs": [
        {
          "data": {
            "text/plain": [
              "20572"
            ]
          },
          "execution_count": 18,
          "metadata": {},
          "output_type": "execute_result"
        }
      ],
      "source": [
        "# Tokenize the text\n",
        "tokenizer = Tokenizer()\n",
        "tokenizer.fit_on_texts(all_captions)\n",
        "vocab_size = len(tokenizer.word_index) + 1\n",
        "vocab_size"
      ]
    },
    {
      "cell_type": "code",
      "execution_count": null,
      "metadata": {
        "colab": {
          "base_uri": "https://localhost:8080/"
        },
        "id": "90b9eKT_ENsp",
        "outputId": "aaeb6362-1e4c-430e-8629-4dfe8f6e03ba"
      },
      "outputs": [
        {
          "data": {
            "text/plain": [
              "155"
            ]
          },
          "execution_count": 19,
          "metadata": {},
          "output_type": "execute_result"
        }
      ],
      "source": [
        "# get max length of a caption:\n",
        "max_length = max(len(caption.split()) for caption in all_captions)\n",
        "max_length"
      ]
    },
    {
      "cell_type": "code",
      "execution_count": null,
      "metadata": {
        "id": "aSVccM0GENsq"
      },
      "outputs": [],
      "source": [
        "# Train test split\n",
        "img_ids = list(img_to_captions.keys())\n",
        "split_val = int(len(img_ids) * 0.80)\n",
        "train = img_ids[:split_val]\n",
        "val = img_ids[split_val:]\n",
        "\n",
        "temp = train\n",
        "split = int(len(temp) * 0.9)\n",
        "train = temp[:split]\n",
        "test = temp[split:]"
      ]
    },
    {
      "cell_type": "code",
      "execution_count": null,
      "metadata": {
        "colab": {
          "base_uri": "https://localhost:8080/"
        },
        "id": "KA2UfoxJfXib",
        "outputId": "156db92a-4636-45f7-90d4-fd2f16a0e9e5"
      },
      "outputs": [
        {
          "name": "stdout",
          "output_type": "stream",
          "text": [
            "22449 2495 6237\n"
          ]
        }
      ],
      "source": [
        "print(len(train), len(test), len(val))"
      ]
    },
    {
      "cell_type": "code",
      "execution_count": null,
      "metadata": {
        "id": "_OLY-vjgENsr"
      },
      "outputs": [],
      "source": [
        "# create data generator to fetch imgs and captions (get data in batches)\n",
        "def data_generator(data_keys, mapping, features, tokenizer, max_length, vocab_size, batch_size):\n",
        "    x1, x2, y = list(), list(), list()\n",
        "    n = 0\n",
        "    while 1:\n",
        "        for key in data_keys:\n",
        "            n += 1\n",
        "            captions = mapping[key]\n",
        "            for caption in captions:\n",
        "                # Encoding the sequence\n",
        "                seq = tokenizer.texts_to_sequences([caption])[0]\n",
        "                # Split the seq into x, y pairs\n",
        "                for i in range(1, len(seq)):\n",
        "                    in_seq, out_seq = seq[:i], seq[i]\n",
        "                    in_seq = pad_sequences([in_seq], maxlen=max_length)[0]\n",
        "                    out_seq = to_categorical([out_seq], num_classes=vocab_size)[0]\n",
        "\n",
        "                    # Store seqs\n",
        "                    x1.append(features[key][0])\n",
        "                    x2.append(in_seq)\n",
        "                    y.append(out_seq)\n",
        "            if n == batch_size:\n",
        "              x1, x2, y = np.array(x1), np.array(x2), np.array(y)\n",
        "              yield [x1, x2], y\n",
        "              x1, x2, y = list(), list(), list()\n",
        "              n = 0   "
      ]
    },
    {
      "cell_type": "code",
      "execution_count": null,
      "metadata": {
        "colab": {
          "base_uri": "https://localhost:8080/",
          "height": 754
        },
        "id": "72JTKEQGENsr",
        "outputId": "030febec-9ff4-4abb-b864-ef2d34db45da"
      },
      "outputs": [
        {
          "data": {
            "image/png": "[encoded data removed]",
            "text/plain": [
              "<IPython.core.display.Image object>"
            ]
          },
          "execution_count": 35,
          "metadata": {},
          "output_type": "execute_result"
        }
      ],
      "source": [
        "conv_inputs = Input(shape=(4096,))\n",
        "fe1 = Dropout(0.4)(conv_inputs)\n",
        "fe2 = Dense(256, activation='relu')(fe1)\n",
        "\n",
        "seq_inputs = Input(shape=(max_length,))\n",
        "se1 = Embedding(vocab_size, 256, mask_zero=True)(seq_inputs) # try pretrained embedding\n",
        "se2 = Dropout(0.4)(se1)\n",
        "se3 = LSTM(256)(se2)\n",
        "\n",
        "# Decoder model\n",
        "decoder1 = add([fe2, se3])\n",
        "decoder2 = Dense(256, activation='relu')(decoder1)\n",
        "outputs = Dense(vocab_size, activation='softmax')(decoder2)\n",
        "\n",
        "model = Model(inputs=[conv_inputs, seq_inputs], outputs=outputs)\n",
        "model.compile(loss='categorical_crossentropy', optimizer='adam')\n",
        "\n",
        "plot_model(model, show_shapes=True)"
      ]
    },
    {
      "cell_type": "code",
      "execution_count": null,
      "metadata": {
        "id": "uz25MjhM2UMj"
      },
      "outputs": [],
      "source": [
        "from keras.callbacks import ModelCheckpoint, EarlyStopping\n",
        "\n",
        "# ModelCheckpoint callback - save best weights\n",
        "tl_checkpoint_1 = ModelCheckpoint(filepath='/content/drive/MyDrive/VizWiz Code/loaded_data/vgg_model5_3.hdf5',\n",
        "                                  save_best_only=True,\n",
        "                                  verbose=1)\n",
        "\n",
        "# EarlyStopping\n",
        "early_stop = EarlyStopping(monitor='val_loss',\n",
        "                           patience=5,\n",
        "                           restore_best_weights=True,\n",
        "                           mode='min')"
      ]
    },
    {
      "cell_type": "code",
      "execution_count": null,
      "metadata": {
        "id": "hphCRc7nENsr"
      },
      "outputs": [],
      "source": [
        "epochs = 30\n",
        "batch_size = 32\n",
        "steps = len(train) // batch_size\n",
        "val_steps = len(val) // batch_size\n",
        "\n",
        "val_gen = data_generator(val, img_to_captions, img_features, tokenizer, max_length, vocab_size, batch_size)\n",
        "\n",
        "for i in range(epochs):\n",
        "    gen = data_generator(train, img_to_captions, img_features, tokenizer, max_length, vocab_size, batch_size)\n",
        "    model.fit(\n",
        "        gen, \n",
        "        epochs=1, \n",
        "        validation_data=val_gen, \n",
        "        validation_steps=val_steps, \n",
        "        steps_per_epoch=steps, \n",
        "        callbacks=[tl_checkpoint_1, early_stop], \n",
        "        verbose=1)"
      ]
    },
    {
      "cell_type": "code",
      "execution_count": null,
      "metadata": {
        "id": "kfkJEMU1Gt89"
      },
      "outputs": [],
      "source": [
        "conv_inputs = Input(shape=(4096,))\n",
        "fe1 = Dropout(0.4)(conv_inputs)\n",
        "fe2 = Dense(256, activation='relu')(fe1)\n",
        "\n",
        "seq_inputs = Input(shape=(max_length,))\n",
        "se1 = Embedding(vocab_size, 256, mask_zero=True)(seq_inputs) # try pretrained embedding\n",
        "se2 = Dropout(0.4)(se1)\n",
        "se3 = LSTM(256)(se2)\n",
        "\n",
        "# Decoder model\n",
        "decoder1 = add([fe2, se3])\n",
        "decoder2 = Dense(256, activation='relu')(decoder1)\n",
        "outputs = Dense(vocab_size, activation='softmax')(decoder2)\n",
        "\n",
        "model = Model(inputs=[conv_inputs, seq_inputs], outputs=outputs)\n",
        "model.load_weights('/content/drive/MyDrive/VizWiz Code/loaded_data/vgg_model5_3.hdf5')\n",
        "model.compile(optimizer='adam', loss='categorical_crossentropy', )"
      ]
    },
    {
      "cell_type": "code",
      "execution_count": null,
      "metadata": {
        "id": "PJW3E3glENss"
      },
      "outputs": [],
      "source": [
        "# generate captions\n",
        "def idx_to_word(integer, tokenizer):\n",
        "    for word, idx in tokenizer.word_index.items():\n",
        "        if idx == integer: return word\n",
        "    return None"
      ]
    },
    {
      "cell_type": "code",
      "execution_count": null,
      "metadata": {
        "id": "XySzAGN-ENst"
      },
      "outputs": [],
      "source": [
        "def predict_caption(model, image, tokenizer, max_length):\n",
        "    in_text = 'startseq'\n",
        "    \n",
        "    for i in range(max_length):\n",
        "        sequence = tokenizer.texts_to_sequences([in_text])[0]\n",
        "        sequence = pad_sequences([sequence], max_length)\n",
        "        next_word = model.predict([np.array(image), np.array(sequence)], verbose=0)\n",
        "        next_word = np.argmax(next_word)\n",
        "        word = idx_to_word(next_word, tokenizer)\n",
        "        if word is None:\n",
        "            break\n",
        "        in_text += ' ' + word\n",
        "        if word == 'endseq': break\n",
        "    return in_text"
      ]
    },
    {
      "cell_type": "code",
      "execution_count": null,
      "metadata": {
        "colab": {
          "base_uri": "https://localhost:8080/"
        },
        "id": "O_AHFv_aENsv",
        "outputId": "27437c0a-2767-4dfa-a87e-e6d3f849f858"
      },
      "outputs": [
        {
          "name": "stderr",
          "output_type": "stream",
          "text": [
            "100%|██████████| 2495/2495 [33:29<00:00,  1.24it/s]\n"
          ]
        },
        {
          "name": "stdout",
          "output_type": "stream",
          "text": [
            "BLEU-1: 0.45908254282882627\n",
            "BLEU-2: 0.3085093841266183\n"
          ]
        }
      ],
      "source": [
        "from nltk.translate.bleu_score import corpus_bleu\n",
        "import tensorflow as tf\n",
        "\n",
        "actual, predicted = list(), list()\n",
        "\n",
        "for key in tqdm(test):\n",
        "    captions = img_to_captions[key]\n",
        "    y_pred = predict_caption(model, img_features[key], tokenizer, max_length)\n",
        "\n",
        "    actual_captions = [caption.split() for caption in captions]\n",
        "    y_pred = y_pred.split()\n",
        "    actual.append(actual_captions)\n",
        "    predicted.append(y_pred)\n",
        "\n",
        "print(f'BLEU-1: {corpus_bleu(actual, predicted, weights=(1.0, 0, 0, 0))}')\n",
        "print(f'BLEU-2: {corpus_bleu(actual, predicted, weights=(0.5, 0.5, 0, 0))}')"
      ]
    },
    {
      "cell_type": "code",
      "execution_count": null,
      "metadata": {
        "id": "IuqSUCKOENsx"
      },
      "outputs": [],
      "source": [
        "# Visualize the results\n",
        "from PIL import Image\n",
        "import matplotlib.pyplot as plt\n",
        "img_name = test_dict['images'][1400]['file_name']\n",
        "img_id = test_img_mapping[img_name]\n",
        "img_path = os.path.join(base_dir, 'test', img_name)\n",
        "img = Image.open(img_path)\n",
        "# captions = img_to_captions[img_id]\n",
        "print('-------------------------Actual-----------------------------')\n",
        "# for caption in captions:\n",
        "#     print(caption)\n",
        "\n",
        "y_pred = predict_caption(model, test_img_features[img_id], tokenizer, max_length)\n",
        "print('-------------------------Predicted-----------------------------')\n",
        "print(y_pred)\n",
        "\n",
        "plt.imshow(img)"
      ]
    },
    {
      "cell_type": "code",
      "execution_count": null,
      "metadata": {
        "id": "oz731zwWgZEH"
      },
      "outputs": [],
      "source": [
        "# Visualize the results\n",
        "from PIL import Image\n",
        "import matplotlib.pyplot as plt\n",
        "img_name = test_dict['images'][1]['file_name']\n",
        "img_id = test_img_mapping[img_name]\n",
        "img_path = os.path.join(base_dir, 'test', img_name)\n",
        "img = Image.open(img_path)\n",
        "y_pred = predict_caption(model, val_img_features[img_id], tokenizer, max_length)\n",
        "print('-------------------------Predicted-----------------------------')\n",
        "print(y_pred)\n",
        "\n",
        "plt.imshow(img)"
      ]
    },
    {
      "cell_type": "markdown",
      "metadata": {
        "id": "RWhh9Yu8F-ZM"
      },
      "source": [
        "# **VGG19**"
      ]
    },
    {
      "cell_type": "code",
      "execution_count": null,
      "metadata": {
        "colab": {
          "base_uri": "https://localhost:8080/"
        },
        "id": "aJ5bZoWAGLXC",
        "outputId": "c9e7f788-2c24-47a9-906d-89bd801d8940"
      },
      "outputs": [
        {
          "name": "stdout",
          "output_type": "stream",
          "text": [
            "Model: \"model_1\"\n",
            "_________________________________________________________________\n",
            " Layer (type)                Output Shape              Param #   \n",
            "=================================================================\n",
            " input_3 (InputLayer)        [(None, 224, 224, 3)]     0         \n",
            "                                                                 \n",
            " block1_conv1 (Conv2D)       (None, 224, 224, 64)      1792      \n",
            "                                                                 \n",
            " block1_conv2 (Conv2D)       (None, 224, 224, 64)      36928     \n",
            "                                                                 \n",
            " block1_pool (MaxPooling2D)  (None, 112, 112, 64)      0         \n",
            "                                                                 \n",
            " block2_conv1 (Conv2D)       (None, 112, 112, 128)     73856     \n",
            "                                                                 \n",
            " block2_conv2 (Conv2D)       (None, 112, 112, 128)     147584    \n",
            "                                                                 \n",
            " block2_pool (MaxPooling2D)  (None, 56, 56, 128)       0         \n",
            "                                                                 \n",
            " block3_conv1 (Conv2D)       (None, 56, 56, 256)       295168    \n",
            "                                                                 \n",
            " block3_conv2 (Conv2D)       (None, 56, 56, 256)       590080    \n",
            "                                                                 \n",
            " block3_conv3 (Conv2D)       (None, 56, 56, 256)       590080    \n",
            "                                                                 \n",
            " block3_conv4 (Conv2D)       (None, 56, 56, 256)       590080    \n",
            "                                                                 \n",
            " block3_pool (MaxPooling2D)  (None, 28, 28, 256)       0         \n",
            "                                                                 \n",
            " block4_conv1 (Conv2D)       (None, 28, 28, 512)       1180160   \n",
            "                                                                 \n",
            " block4_conv2 (Conv2D)       (None, 28, 28, 512)       2359808   \n",
            "                                                                 \n",
            " block4_conv3 (Conv2D)       (None, 28, 28, 512)       2359808   \n",
            "                                                                 \n",
            " block4_conv4 (Conv2D)       (None, 28, 28, 512)       2359808   \n",
            "                                                                 \n",
            " block4_pool (MaxPooling2D)  (None, 14, 14, 512)       0         \n",
            "                                                                 \n",
            " block5_conv1 (Conv2D)       (None, 14, 14, 512)       2359808   \n",
            "                                                                 \n",
            " block5_conv2 (Conv2D)       (None, 14, 14, 512)       2359808   \n",
            "                                                                 \n",
            " block5_conv3 (Conv2D)       (None, 14, 14, 512)       2359808   \n",
            "                                                                 \n",
            " block5_conv4 (Conv2D)       (None, 14, 14, 512)       2359808   \n",
            "                                                                 \n",
            " block5_pool (MaxPooling2D)  (None, 7, 7, 512)         0         \n",
            "                                                                 \n",
            " flatten (Flatten)           (None, 25088)             0         \n",
            "                                                                 \n",
            " fc1 (Dense)                 (None, 4096)              102764544 \n",
            "                                                                 \n",
            " fc2 (Dense)                 (None, 4096)              16781312  \n",
            "                                                                 \n",
            "=================================================================\n",
            "Total params: 139,570,240\n",
            "Trainable params: 139,570,240\n",
            "Non-trainable params: 0\n",
            "_________________________________________________________________\n"
          ]
        }
      ],
      "source": [
        "# Define VGG19 Model\n",
        "from tensorflow.keras.applications.vgg19 import VGG19\n",
        "vgg_19 = VGG19()\n",
        "vgg_19 = Model(inputs=vgg_19.inputs, outputs=vgg_19.layers[-2].output)\n",
        "vgg_19.summary()"
      ]
    },
    {
      "cell_type": "code",
      "execution_count": null,
      "metadata": {
        "colab": {
          "base_uri": "https://localhost:8080/"
        },
        "id": "AAkWTBbXGaXD",
        "outputId": "107bde5b-f292-4746-b7e2-fb2eaedebf44"
      },
      "outputs": [
        {
          "name": "stderr",
          "output_type": "stream",
          "text": [
            "100%|██████████| 23954/23954 [39:58<00:00,  9.99it/s]\n",
            "100%|██████████| 7750/7750 [12:49<00:00, 10.07it/s]\n",
            "100%|██████████| 8000/8000 [19:03<00:00,  6.99it/s]\n"
          ]
        }
      ],
      "source": [
        "train_img_features = get_features(vgg_19, 'train', train_img_mapping)\n",
        "val_img_features = get_features(vgg_19, 'val', val_img_mapping)\n",
        "test_img_features = get_features(vgg_19, 'test', test_img_mapping)"
      ]
    },
    {
      "cell_type": "code",
      "execution_count": null,
      "metadata": {
        "id": "jFEA4B5bM45O"
      },
      "outputs": [],
      "source": [
        "train_img_features_vgg19_path = os.path.join(loaded_data_path, 'train_img_features_vgg19.pkl')\n",
        "val_img_features_vgg19_path = os.path.join(loaded_data_path, 'val_img_features_vgg19.pkl')\n",
        "test_img_features_vgg19_path = os.path.join(loaded_data_path, 'test_img_features_vgg19.pkl')\n",
        "\n",
        "pickle.dump(test_img_features, open(test_img_features_vgg19_path, 'wb'))\n",
        "pickle.dump(train_img_features, open(train_img_features_vgg19_path, 'wb'))\n",
        "pickle.dump(val_img_features, open(val_img_features_vgg19_path, 'wb'))"
      ]
    },
    {
      "cell_type": "code",
      "execution_count": null,
      "metadata": {
        "id": "bTosh-JaNXlZ"
      },
      "outputs": [],
      "source": [
        "train_img_features_vgg19_path = os.path.join(loaded_data_path, 'train_img_features_vgg19.pkl')\n",
        "val_img_features_vgg19_path = os.path.join(loaded_data_path, 'val_img_features_vgg19.pkl')\n",
        "test_img_features_vgg19_path = os.path.join(loaded_data_path, 'test_img_features_vgg19.pkl')\n",
        "\n",
        "with open(train_img_features_vgg19_path, 'rb') as f:\n",
        "    train_img_features = pickle.load(f)\n",
        "with open(val_img_features_vgg19_path, 'rb') as f:\n",
        "    val_img_features = pickle.load(f)\n",
        "with open(test_img_features_vgg19_path, 'rb') as f:\n",
        "    test_img_features = pickle.load(f)"
      ]
    },
    {
      "cell_type": "code",
      "execution_count": null,
      "metadata": {
        "id": "4WS63rXwMPjJ"
      },
      "outputs": [],
      "source": [
        "img_features = dict(list(train_img_features.items()) + list(val_img_features.items()))\n",
        "# img_to_captions = dict(list(train_img_to_captions.items()) + list(val_img_to_captions.items()))"
      ]
    },
    {
      "cell_type": "code",
      "execution_count": null,
      "metadata": {
        "colab": {
          "base_uri": "https://localhost:8080/",
          "height": 754
        },
        "id": "5sY_O7iYGnIJ",
        "outputId": "7ad6e81d-e3b7-4216-89ba-c9ff29b13192"
      },
      "outputs": [
        {
          "data": {
            "image/png": "[encoded data removed]",
            "text/plain": [
              "<IPython.core.display.Image object>"
            ]
          },
          "execution_count": 40,
          "metadata": {},
          "output_type": "execute_result"
        }
      ],
      "source": [
        "conv_inputs = Input(shape=(4096,))\n",
        "fe1 = Dropout(0.5)(conv_inputs)\n",
        "fe2 = Dense(256, activation='relu')(fe1)\n",
        "\n",
        "seq_inputs = Input(shape=(max_length,))\n",
        "se1 = Embedding(vocab_size, 256, mask_zero=True)(seq_inputs) # try pretrained embedding next\n",
        "se2 = Dropout(0.5)(se1)\n",
        "se3 = LSTM(256)(se2)\n",
        "\n",
        "# Decoder model\n",
        "decoder1 = add([fe2, se3])\n",
        "decoder2 = Dense(256, activation='relu')(decoder1)\n",
        "outputs = Dense(vocab_size, activation='softmax')(decoder2)\n",
        "\n",
        "model = Model(inputs=[conv_inputs, seq_inputs], outputs=outputs)\n",
        "model.compile(loss='categorical_crossentropy', optimizer='adam')\n",
        "\n",
        "plot_model(model, show_shapes=True)"
      ]
    },
    {
      "cell_type": "code",
      "execution_count": null,
      "metadata": {
        "id": "oC9XG7saHdEm"
      },
      "outputs": [],
      "source": [
        "from keras.callbacks import ModelCheckpoint, EarlyStopping\n",
        "\n",
        "# ModelCheckpoint callback - save best weights\n",
        "tl_checkpoint_1 = ModelCheckpoint(filepath='/content/drive/MyDrive/VizWiz Code/loaded_data/vgg19_model5_3.hdf5',\n",
        "                                  save_best_only=True,\n",
        "                                  verbose=1)\n",
        "\n",
        "# EarlyStopping\n",
        "early_stop = EarlyStopping(monitor='val_loss',\n",
        "                           patience=5,\n",
        "                           restore_best_weights=True,\n",
        "                           mode='min')"
      ]
    },
    {
      "cell_type": "code",
      "execution_count": null,
      "metadata": {
        "colab": {
          "base_uri": "https://localhost:8080/"
        },
        "id": "Xn5TzBRjIY5Z",
        "outputId": "2204058b-5e89-47f4-88b2-ba843d5d0933"
      },
      "outputs": [
        {
          "name": "stdout",
          "output_type": "stream",
          "text": [
            "701/701 [==============================] - ETA: 0s - loss: 4.6927\n",
            "Epoch 1: val_loss improved from inf to 5.19530, saving model to /content/drive/MyDrive/VizWiz Code/loaded_data/vgg19_model5_3.hdf5\n",
            "701/701 [==============================] - 582s 829ms/step - loss: 4.6927 - val_loss: 5.1953\n",
            "701/701 [==============================] - ETA: 0s - loss: 3.7954\n",
            "Epoch 1: val_loss improved from 5.19530 to 5.11256, saving model to /content/drive/MyDrive/VizWiz Code/loaded_data/vgg19_model5_3.hdf5\n",
            "701/701 [==============================] - 580s 828ms/step - loss: 3.7954 - val_loss: 5.1126\n",
            "701/701 [==============================] - ETA: 0s - loss: 3.5000\n",
            "Epoch 1: val_loss did not improve from 5.11256\n",
            "701/701 [==============================] - 578s 824ms/step - loss: 3.5000 - val_loss: 5.2403\n",
            "701/701 [==============================] - ETA: 0s - loss: 3.2970\n",
            "Epoch 1: val_loss did not improve from 5.11256\n",
            "701/701 [==============================] - 578s 825ms/step - loss: 3.2970 - val_loss: 5.5670\n",
            "701/701 [==============================] - ETA: 0s - loss: 3.1400\n",
            "Epoch 1: val_loss did not improve from 5.11256\n",
            "701/701 [==============================] - 545s 778ms/step - loss: 3.1400 - val_loss: 5.7330\n",
            "701/701 [==============================] - ETA: 0s - loss: 3.0189\n",
            "Epoch 1: val_loss did not improve from 5.11256\n",
            "701/701 [==============================] - 547s 781ms/step - loss: 3.0189 - val_loss: 5.6985\n",
            "701/701 [==============================] - ETA: 0s - loss: 2.9265\n",
            "Epoch 1: val_loss did not improve from 5.11256\n",
            "701/701 [==============================] - 537s 767ms/step - loss: 2.9265 - val_loss: 6.0236\n",
            "701/701 [==============================] - ETA: 0s - loss: 2.8556\n",
            "Epoch 1: val_loss did not improve from 5.11256\n",
            "701/701 [==============================] - 540s 770ms/step - loss: 2.8556 - val_loss: 5.8849\n",
            "701/701 [==============================] - ETA: 0s - loss: 2.7973\n",
            "Epoch 1: val_loss did not improve from 5.11256\n",
            "701/701 [==============================] - 571s 815ms/step - loss: 2.7973 - val_loss: 6.0945\n",
            "701/701 [==============================] - ETA: 0s - loss: 2.7490\n",
            "Epoch 1: val_loss did not improve from 5.11256\n",
            "701/701 [==============================] - 577s 824ms/step - loss: 2.7490 - val_loss: 6.1620\n",
            "701/701 [==============================] - ETA: 0s - loss: 2.7083\n",
            "Epoch 1: val_loss did not improve from 5.11256\n",
            "701/701 [==============================] - 577s 823ms/step - loss: 2.7083 - val_loss: 6.3770\n",
            "701/701 [==============================] - ETA: 0s - loss: 2.6729\n",
            "Epoch 1: val_loss did not improve from 5.11256\n",
            "701/701 [==============================] - 577s 823ms/step - loss: 2.6729 - val_loss: 6.4148\n",
            "123/701 [====>.........................] - ETA: 7:13 - loss: 2.6727"
          ]
        }
      ],
      "source": [
        "epochs = 15\n",
        "batch_size = 32\n",
        "steps = len(train) // batch_size\n",
        "val_steps = len(val) // batch_size\n",
        "\n",
        "val_gen = data_generator(val, img_to_captions, img_features, tokenizer, max_length, vocab_size, batch_size)\n",
        "\n",
        "for i in range(epochs):\n",
        "    gen = data_generator(train, img_to_captions, img_features, tokenizer, max_length, vocab_size, batch_size)\n",
        "    model.fit(\n",
        "        gen, \n",
        "        epochs=1, \n",
        "        validation_data=val_gen, \n",
        "        validation_steps=val_steps, \n",
        "        steps_per_epoch=steps, \n",
        "        callbacks=[tl_checkpoint_1, early_stop], \n",
        "        verbose=1)"
      ]
    },
    {
      "cell_type": "code",
      "execution_count": null,
      "metadata": {
        "id": "d0MlZM-x-8-G"
      },
      "outputs": [],
      "source": [
        "conv_inputs = Input(shape=(4096,))\n",
        "fe1 = Dropout(0.4)(conv_inputs)\n",
        "fe2 = Dense(256, activation='relu')(fe1)\n",
        "\n",
        "seq_inputs = Input(shape=(max_length,))\n",
        "se1 = Embedding(vocab_size, 256, mask_zero=True)(seq_inputs) # try pretrained embedding\n",
        "se2 = Dropout(0.4)(se1)\n",
        "se3 = LSTM(256)(se2)\n",
        "\n",
        "# Decoder model\n",
        "decoder1 = add([fe2, se3])\n",
        "decoder2 = Dense(256, activation='relu')(decoder1)\n",
        "outputs = Dense(vocab_size, activation='softmax')(decoder2)\n",
        "\n",
        "model = Model(inputs=[conv_inputs, seq_inputs], outputs=outputs)\n",
        "model.load_weights('/content/drive/MyDrive/VizWiz Code/loaded_data/vgg19_model5_3.hdf5')\n",
        "model.compile(optimizer='adam', loss='categorical_crossentropy', )"
      ]
    },
    {
      "cell_type": "code",
      "execution_count": null,
      "metadata": {
        "colab": {
          "base_uri": "https://localhost:8080/"
        },
        "id": "6apnXrflzsfn",
        "outputId": "e7a44712-5827-48bf-d450-8c198081df20"
      },
      "outputs": [
        {
          "name": "stderr",
          "output_type": "stream",
          "text": [
            "100%|██████████| 2495/2495 [54:09<00:00,  1.30s/it]\n"
          ]
        },
        {
          "name": "stdout",
          "output_type": "stream",
          "text": [
            "BLEU-1: 0.34753209778532124\n",
            "BLEU-2: 0.23195570735436263\n"
          ]
        }
      ],
      "source": [
        "from nltk.translate.bleu_score import corpus_bleu\n",
        "import tensorflow as tf\n",
        "\n",
        "actual, predicted = list(), list()\n",
        "\n",
        "for key in tqdm(test):\n",
        "    captions = img_to_captions[key]\n",
        "    y_pred = predict_caption(model, img_features[key], tokenizer, max_length)\n",
        "\n",
        "    actual_captions = [caption.split() for caption in captions]\n",
        "    y_pred = y_pred.split()\n",
        "    actual.append(actual_captions)\n",
        "    predicted.append(y_pred)\n",
        "\n",
        "print(f'BLEU-1: {corpus_bleu(actual, predicted, weights=(1.0, 0, 0, 0))}')\n",
        "print(f'BLEU-2: {corpus_bleu(actual, predicted, weights=(0.5, 0.5, 0, 0))}')"
      ]
    },
    {
      "cell_type": "code",
      "execution_count": null,
      "metadata": {
        "id": "r51Fdjz8z0lj"
      },
      "outputs": [],
      "source": [
        "# Visualize the results\n",
        "from PIL import Image\n",
        "import matplotlib.pyplot as plt\n",
        "img_name = test_dict['images'][1400]['file_name']\n",
        "img_id = test_img_mapping[img_name]\n",
        "img_path = os.path.join(base_dir, 'test', img_name)\n",
        "img = Image.open(img_path)\n",
        "# captions = img_to_captions[img_id]\n",
        "print('-------------------------Actual-----------------------------')\n",
        "# for caption in captions:\n",
        "#     print(caption)\n",
        "\n",
        "y_pred = predict_caption(model, test_img_features[img_id], tokenizer, max_length)\n",
        "print('-------------------------Predicted-----------------------------')\n",
        "print(y_pred)\n",
        "\n",
        "plt.imshow(img)"
      ]
    },
    {
      "cell_type": "code",
      "execution_count": null,
      "metadata": {
        "id": "PUeXF7g4z4hz"
      },
      "outputs": [],
      "source": [
        "# Visualize the results\n",
        "from PIL import Image\n",
        "import matplotlib.pyplot as plt\n",
        "img_name = test_dict['images'][1]['file_name']\n",
        "img_id = test_img_mapping[img_name]\n",
        "img_path = os.path.join(base_dir, 'test', img_name)\n",
        "img = Image.open(img_path)\n",
        "y_pred = predict_caption(model, img_features[img_id], tokenizer, max_length)\n",
        "print('-------------------------Predicted-----------------------------')\n",
        "print(y_pred)\n",
        "plt.imshow(img)"
      ]
    }
  ],
  "metadata": {
    "colab": {
      "provenance": []
    },
    "gpuClass": "standard",
    "kernelspec": {
      "display_name": "Python 3.10.5 64-bit",
      "language": "python",
      "name": "python3"
    },
    "language_info": {
      "codemirror_mode": {
        "name": "ipython",
        "version": 3
      },
      "file_extension": ".py",
      "mimetype": "text/x-python",
      "name": "python",
      "nbconvert_exporter": "python",
      "pygments_lexer": "ipython3",
      "version": "3.10.5"
    },
    "vscode": {
      "interpreter": {
        "hash": "7c2737f5cd3eb6a237b7123ce75c641d6f975db18b0c0702ad2055474d78171c"
      }
    }
  },
  "nbformat": 4,
  "nbformat_minor": 0
}
